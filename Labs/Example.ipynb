{
  "nbformat": 4,
  "nbformat_minor": 0,
  "metadata": {
    "colab": {
      "name": "Example.ipynb",
      "provenance": [],
      "collapsed_sections": [],
      "authorship_tag": "ABX9TyOcGwt1imHteTl/FJ2ycLNO",
      "include_colab_link": true
    },
    "kernelspec": {
      "name": "python3",
      "display_name": "Python 3"
    },
    "language_info": {
      "name": "python"
    }
  },
  "cells": [
    {
      "cell_type": "markdown",
      "metadata": {
        "id": "view-in-github",
        "colab_type": "text"
      },
      "source": [
        "<a href=\"https://colab.research.google.com/github/MainIT2810/DataAnalystDeepLearning/blob/master/Labs/Example.ipynb\" target=\"_parent\"><img src=\"https://colab.research.google.com/assets/colab-badge.svg\" alt=\"Open In Colab\"/></a>"
      ]
    },
    {
      "cell_type": "markdown",
      "metadata": {
        "id": "RHdy42CUB8YT"
      },
      "source": [
        "**Example 1:**"
      ]
    },
    {
      "cell_type": "code",
      "metadata": {
        "colab": {
          "base_uri": "https://localhost:8080/"
        },
        "id": "FPwAiGm9CFWv",
        "outputId": "14d39c01-df1d-4d47-a49f-aea15a621845"
      },
      "source": [
        "import pandas as pd\n",
        "s = pd.Series([12,-4,7,9])\n",
        "print (s)"
      ],
      "execution_count": null,
      "outputs": [
        {
          "output_type": "stream",
          "name": "stdout",
          "text": [
            "0    12\n",
            "1    -4\n",
            "2     7\n",
            "3     9\n",
            "dtype: int64\n"
          ]
        }
      ]
    },
    {
      "cell_type": "markdown",
      "metadata": {
        "id": "icpwKvreCRWf"
      },
      "source": [
        "**Example 2:**"
      ]
    },
    {
      "cell_type": "code",
      "metadata": {
        "colab": {
          "base_uri": "https://localhost:8080/"
        },
        "id": "MsFwwWGOCXPo",
        "outputId": "b40427ad-5472-4a95-db5a-babca52cc80c"
      },
      "source": [
        "import pandas as pd\n",
        "s = pd.Series([12,-4,7,9], index = ['a','b','c','d'])\n",
        "print (s)"
      ],
      "execution_count": null,
      "outputs": [
        {
          "output_type": "stream",
          "name": "stdout",
          "text": [
            "a    12\n",
            "b    -4\n",
            "c     7\n",
            "d     9\n",
            "dtype: int64\n"
          ]
        }
      ]
    },
    {
      "cell_type": "markdown",
      "metadata": {
        "id": "CjF-AgsnCqL2"
      },
      "source": [
        "Get values/ index from s"
      ]
    },
    {
      "cell_type": "code",
      "metadata": {
        "colab": {
          "base_uri": "https://localhost:8080/"
        },
        "id": "C6S9K4EGCur0",
        "outputId": "f62b945f-868c-46bf-ed59-12372e57241c"
      },
      "source": [
        "s.values"
      ],
      "execution_count": null,
      "outputs": [
        {
          "output_type": "execute_result",
          "data": {
            "text/plain": [
              "array([12, -4,  7,  9])"
            ]
          },
          "metadata": {},
          "execution_count": 3
        }
      ]
    },
    {
      "cell_type": "code",
      "metadata": {
        "colab": {
          "base_uri": "https://localhost:8080/"
        },
        "id": "hTVBrZ6KC0sP",
        "outputId": "31c88433-13b0-4dcd-c3b4-70357c22e16f"
      },
      "source": [
        "s.index"
      ],
      "execution_count": null,
      "outputs": [
        {
          "output_type": "execute_result",
          "data": {
            "text/plain": [
              "Index(['a', 'b', 'c', 'd'], dtype='object')"
            ]
          },
          "metadata": {},
          "execution_count": 4
        }
      ]
    },
    {
      "cell_type": "markdown",
      "metadata": {
        "id": "5yq1OvbtExQL"
      },
      "source": [
        "**DataFrame**"
      ]
    },
    {
      "cell_type": "markdown",
      "metadata": {
        "id": "xRDJwRBLFSrP"
      },
      "source": [
        "**Example 3**"
      ]
    },
    {
      "cell_type": "code",
      "metadata": {
        "colab": {
          "base_uri": "https://localhost:8080/",
          "height": 203
        },
        "id": "S5ShQkXQFMQL",
        "outputId": "ad4cf0e1-5024-430a-cc5b-05192d01d0a8"
      },
      "source": [
        "\n",
        "data ={'color' : ['blue', 'green', 'yellow', 'red', 'white'],\n",
        "\t'object': ['ball', 'pen', 'pencil', 'paper', 'mug'],\n",
        "\t'price': [1.2, 1.0, 0.6,0.9,1.7]}\n",
        "frame = pd.DataFrame(data)\n",
        "frame"
      ],
      "execution_count": null,
      "outputs": [
        {
          "output_type": "execute_result",
          "data": {
            "text/html": [
              "<div>\n",
              "<style scoped>\n",
              "    .dataframe tbody tr th:only-of-type {\n",
              "        vertical-align: middle;\n",
              "    }\n",
              "\n",
              "    .dataframe tbody tr th {\n",
              "        vertical-align: top;\n",
              "    }\n",
              "\n",
              "    .dataframe thead th {\n",
              "        text-align: right;\n",
              "    }\n",
              "</style>\n",
              "<table border=\"1\" class=\"dataframe\">\n",
              "  <thead>\n",
              "    <tr style=\"text-align: right;\">\n",
              "      <th></th>\n",
              "      <th>color</th>\n",
              "      <th>object</th>\n",
              "      <th>price</th>\n",
              "    </tr>\n",
              "  </thead>\n",
              "  <tbody>\n",
              "    <tr>\n",
              "      <th>0</th>\n",
              "      <td>blue</td>\n",
              "      <td>ball</td>\n",
              "      <td>1.2</td>\n",
              "    </tr>\n",
              "    <tr>\n",
              "      <th>1</th>\n",
              "      <td>green</td>\n",
              "      <td>pen</td>\n",
              "      <td>1.0</td>\n",
              "    </tr>\n",
              "    <tr>\n",
              "      <th>2</th>\n",
              "      <td>yellow</td>\n",
              "      <td>pencil</td>\n",
              "      <td>0.6</td>\n",
              "    </tr>\n",
              "    <tr>\n",
              "      <th>3</th>\n",
              "      <td>red</td>\n",
              "      <td>paper</td>\n",
              "      <td>0.9</td>\n",
              "    </tr>\n",
              "    <tr>\n",
              "      <th>4</th>\n",
              "      <td>white</td>\n",
              "      <td>mug</td>\n",
              "      <td>1.7</td>\n",
              "    </tr>\n",
              "  </tbody>\n",
              "</table>\n",
              "</div>"
            ],
            "text/plain": [
              "    color  object  price\n",
              "0    blue    ball    1.2\n",
              "1   green     pen    1.0\n",
              "2  yellow  pencil    0.6\n",
              "3     red   paper    0.9\n",
              "4   white     mug    1.7"
            ]
          },
          "metadata": {},
          "execution_count": 5
        }
      ]
    },
    {
      "cell_type": "markdown",
      "metadata": {
        "id": "P1oeVH_OFYlo"
      },
      "source": [
        "**Example 4**"
      ]
    },
    {
      "cell_type": "code",
      "metadata": {
        "colab": {
          "base_uri": "https://localhost:8080/",
          "height": 203
        },
        "id": "n8BG0X25FdPh",
        "outputId": "f60e9899-9f4c-44b5-afcb-0c1e1749a3d5"
      },
      "source": [
        "frame2 = pd.DataFrame(data, columns = ['object', 'price'])\n",
        "frame2"
      ],
      "execution_count": null,
      "outputs": [
        {
          "output_type": "execute_result",
          "data": {
            "text/html": [
              "<div>\n",
              "<style scoped>\n",
              "    .dataframe tbody tr th:only-of-type {\n",
              "        vertical-align: middle;\n",
              "    }\n",
              "\n",
              "    .dataframe tbody tr th {\n",
              "        vertical-align: top;\n",
              "    }\n",
              "\n",
              "    .dataframe thead th {\n",
              "        text-align: right;\n",
              "    }\n",
              "</style>\n",
              "<table border=\"1\" class=\"dataframe\">\n",
              "  <thead>\n",
              "    <tr style=\"text-align: right;\">\n",
              "      <th></th>\n",
              "      <th>object</th>\n",
              "      <th>price</th>\n",
              "    </tr>\n",
              "  </thead>\n",
              "  <tbody>\n",
              "    <tr>\n",
              "      <th>0</th>\n",
              "      <td>ball</td>\n",
              "      <td>1.2</td>\n",
              "    </tr>\n",
              "    <tr>\n",
              "      <th>1</th>\n",
              "      <td>pen</td>\n",
              "      <td>1.0</td>\n",
              "    </tr>\n",
              "    <tr>\n",
              "      <th>2</th>\n",
              "      <td>pencil</td>\n",
              "      <td>0.6</td>\n",
              "    </tr>\n",
              "    <tr>\n",
              "      <th>3</th>\n",
              "      <td>paper</td>\n",
              "      <td>0.9</td>\n",
              "    </tr>\n",
              "    <tr>\n",
              "      <th>4</th>\n",
              "      <td>mug</td>\n",
              "      <td>1.7</td>\n",
              "    </tr>\n",
              "  </tbody>\n",
              "</table>\n",
              "</div>"
            ],
            "text/plain": [
              "   object  price\n",
              "0    ball    1.2\n",
              "1     pen    1.0\n",
              "2  pencil    0.6\n",
              "3   paper    0.9\n",
              "4     mug    1.7"
            ]
          },
          "metadata": {},
          "execution_count": 8
        }
      ]
    },
    {
      "cell_type": "markdown",
      "metadata": {
        "id": "sJgK64wQG0B1"
      },
      "source": [
        "**Example 5**"
      ]
    },
    {
      "cell_type": "code",
      "metadata": {
        "colab": {
          "base_uri": "https://localhost:8080/",
          "height": 203
        },
        "id": "bvjlTu3EG5Ik",
        "outputId": "b8f7cac8-b5a1-44b7-8f81-f9d9b7c4581a"
      },
      "source": [
        "frame2['type'] = 'normal'\n",
        "frame2"
      ],
      "execution_count": null,
      "outputs": [
        {
          "output_type": "execute_result",
          "data": {
            "text/html": [
              "<div>\n",
              "<style scoped>\n",
              "    .dataframe tbody tr th:only-of-type {\n",
              "        vertical-align: middle;\n",
              "    }\n",
              "\n",
              "    .dataframe tbody tr th {\n",
              "        vertical-align: top;\n",
              "    }\n",
              "\n",
              "    .dataframe thead th {\n",
              "        text-align: right;\n",
              "    }\n",
              "</style>\n",
              "<table border=\"1\" class=\"dataframe\">\n",
              "  <thead>\n",
              "    <tr style=\"text-align: right;\">\n",
              "      <th></th>\n",
              "      <th>object</th>\n",
              "      <th>price</th>\n",
              "      <th>type</th>\n",
              "    </tr>\n",
              "  </thead>\n",
              "  <tbody>\n",
              "    <tr>\n",
              "      <th>0</th>\n",
              "      <td>ball</td>\n",
              "      <td>1.2</td>\n",
              "      <td>normal</td>\n",
              "    </tr>\n",
              "    <tr>\n",
              "      <th>1</th>\n",
              "      <td>pen</td>\n",
              "      <td>1.0</td>\n",
              "      <td>normal</td>\n",
              "    </tr>\n",
              "    <tr>\n",
              "      <th>2</th>\n",
              "      <td>pencil</td>\n",
              "      <td>0.6</td>\n",
              "      <td>normal</td>\n",
              "    </tr>\n",
              "    <tr>\n",
              "      <th>3</th>\n",
              "      <td>paper</td>\n",
              "      <td>0.9</td>\n",
              "      <td>normal</td>\n",
              "    </tr>\n",
              "    <tr>\n",
              "      <th>4</th>\n",
              "      <td>mug</td>\n",
              "      <td>1.7</td>\n",
              "      <td>normal</td>\n",
              "    </tr>\n",
              "  </tbody>\n",
              "</table>\n",
              "</div>"
            ],
            "text/plain": [
              "   object  price    type\n",
              "0    ball    1.2  normal\n",
              "1     pen    1.0  normal\n",
              "2  pencil    0.6  normal\n",
              "3   paper    0.9  normal\n",
              "4     mug    1.7  normal"
            ]
          },
          "metadata": {},
          "execution_count": 9
        }
      ]
    },
    {
      "cell_type": "markdown",
      "metadata": {
        "id": "hi_vxBR-HABX"
      },
      "source": [
        "**Exmaple 6**"
      ]
    },
    {
      "cell_type": "code",
      "metadata": {
        "colab": {
          "base_uri": "https://localhost:8080/",
          "height": 203
        },
        "id": "3t5uAQikHDaw",
        "outputId": "2670f305-0a1d-493c-f321-3ada7642cd34"
      },
      "source": [
        "for i in range(len(frame2)):\n",
        "  if frame2['price'][i] > 1.0:\n",
        "    frame2.loc[i, 'type'] = 'good'\n",
        "frame2"
      ],
      "execution_count": null,
      "outputs": [
        {
          "output_type": "execute_result",
          "data": {
            "text/html": [
              "<div>\n",
              "<style scoped>\n",
              "    .dataframe tbody tr th:only-of-type {\n",
              "        vertical-align: middle;\n",
              "    }\n",
              "\n",
              "    .dataframe tbody tr th {\n",
              "        vertical-align: top;\n",
              "    }\n",
              "\n",
              "    .dataframe thead th {\n",
              "        text-align: right;\n",
              "    }\n",
              "</style>\n",
              "<table border=\"1\" class=\"dataframe\">\n",
              "  <thead>\n",
              "    <tr style=\"text-align: right;\">\n",
              "      <th></th>\n",
              "      <th>object</th>\n",
              "      <th>price</th>\n",
              "      <th>type</th>\n",
              "    </tr>\n",
              "  </thead>\n",
              "  <tbody>\n",
              "    <tr>\n",
              "      <th>0</th>\n",
              "      <td>ball</td>\n",
              "      <td>1.2</td>\n",
              "      <td>good</td>\n",
              "    </tr>\n",
              "    <tr>\n",
              "      <th>1</th>\n",
              "      <td>pen</td>\n",
              "      <td>1.0</td>\n",
              "      <td>normal</td>\n",
              "    </tr>\n",
              "    <tr>\n",
              "      <th>2</th>\n",
              "      <td>pencil</td>\n",
              "      <td>0.6</td>\n",
              "      <td>normal</td>\n",
              "    </tr>\n",
              "    <tr>\n",
              "      <th>3</th>\n",
              "      <td>paper</td>\n",
              "      <td>0.9</td>\n",
              "      <td>normal</td>\n",
              "    </tr>\n",
              "    <tr>\n",
              "      <th>4</th>\n",
              "      <td>mug</td>\n",
              "      <td>1.7</td>\n",
              "      <td>good</td>\n",
              "    </tr>\n",
              "  </tbody>\n",
              "</table>\n",
              "</div>"
            ],
            "text/plain": [
              "   object  price    type\n",
              "0    ball    1.2    good\n",
              "1     pen    1.0  normal\n",
              "2  pencil    0.6  normal\n",
              "3   paper    0.9  normal\n",
              "4     mug    1.7    good"
            ]
          },
          "metadata": {},
          "execution_count": 10
        }
      ]
    },
    {
      "cell_type": "markdown",
      "metadata": {
        "id": "4fS2iFngHYaw"
      },
      "source": [
        "**Example 7**"
      ]
    },
    {
      "cell_type": "code",
      "metadata": {
        "colab": {
          "base_uri": "https://localhost:8080/",
          "height": 203
        },
        "id": "JtcxOMUPHbu-",
        "outputId": "df167c1f-dd6a-4723-c69d-b4a34d4e2628"
      },
      "source": [
        "frame2['discount'] = frame2['price'] * 0.02\n",
        "frame2"
      ],
      "execution_count": null,
      "outputs": [
        {
          "output_type": "execute_result",
          "data": {
            "text/html": [
              "<div>\n",
              "<style scoped>\n",
              "    .dataframe tbody tr th:only-of-type {\n",
              "        vertical-align: middle;\n",
              "    }\n",
              "\n",
              "    .dataframe tbody tr th {\n",
              "        vertical-align: top;\n",
              "    }\n",
              "\n",
              "    .dataframe thead th {\n",
              "        text-align: right;\n",
              "    }\n",
              "</style>\n",
              "<table border=\"1\" class=\"dataframe\">\n",
              "  <thead>\n",
              "    <tr style=\"text-align: right;\">\n",
              "      <th></th>\n",
              "      <th>object</th>\n",
              "      <th>price</th>\n",
              "      <th>type</th>\n",
              "      <th>discount</th>\n",
              "    </tr>\n",
              "  </thead>\n",
              "  <tbody>\n",
              "    <tr>\n",
              "      <th>0</th>\n",
              "      <td>ball</td>\n",
              "      <td>1.2</td>\n",
              "      <td>good</td>\n",
              "      <td>0.024</td>\n",
              "    </tr>\n",
              "    <tr>\n",
              "      <th>1</th>\n",
              "      <td>pen</td>\n",
              "      <td>1.0</td>\n",
              "      <td>normal</td>\n",
              "      <td>0.020</td>\n",
              "    </tr>\n",
              "    <tr>\n",
              "      <th>2</th>\n",
              "      <td>pencil</td>\n",
              "      <td>0.6</td>\n",
              "      <td>normal</td>\n",
              "      <td>0.012</td>\n",
              "    </tr>\n",
              "    <tr>\n",
              "      <th>3</th>\n",
              "      <td>paper</td>\n",
              "      <td>0.9</td>\n",
              "      <td>normal</td>\n",
              "      <td>0.018</td>\n",
              "    </tr>\n",
              "    <tr>\n",
              "      <th>4</th>\n",
              "      <td>mug</td>\n",
              "      <td>1.7</td>\n",
              "      <td>good</td>\n",
              "      <td>0.034</td>\n",
              "    </tr>\n",
              "  </tbody>\n",
              "</table>\n",
              "</div>"
            ],
            "text/plain": [
              "   object  price    type  discount\n",
              "0    ball    1.2    good     0.024\n",
              "1     pen    1.0  normal     0.020\n",
              "2  pencil    0.6  normal     0.012\n",
              "3   paper    0.9  normal     0.018\n",
              "4     mug    1.7    good     0.034"
            ]
          },
          "metadata": {},
          "execution_count": 11
        }
      ]
    },
    {
      "cell_type": "markdown",
      "metadata": {
        "id": "7NUQZbuwHkaR"
      },
      "source": [
        "**Example 8**"
      ]
    },
    {
      "cell_type": "code",
      "metadata": {
        "colab": {
          "base_uri": "https://localhost:8080/",
          "height": 203
        },
        "id": "kZ3mHG1dHnIh",
        "outputId": "c9a5db9d-de5f-46f1-ce09-b2234235d184"
      },
      "source": [
        "frame2['price_afterdiscount'] = frame2['price'] - frame2['discount']\n",
        "frame2 "
      ],
      "execution_count": null,
      "outputs": [
        {
          "output_type": "execute_result",
          "data": {
            "text/html": [
              "<div>\n",
              "<style scoped>\n",
              "    .dataframe tbody tr th:only-of-type {\n",
              "        vertical-align: middle;\n",
              "    }\n",
              "\n",
              "    .dataframe tbody tr th {\n",
              "        vertical-align: top;\n",
              "    }\n",
              "\n",
              "    .dataframe thead th {\n",
              "        text-align: right;\n",
              "    }\n",
              "</style>\n",
              "<table border=\"1\" class=\"dataframe\">\n",
              "  <thead>\n",
              "    <tr style=\"text-align: right;\">\n",
              "      <th></th>\n",
              "      <th>object</th>\n",
              "      <th>price</th>\n",
              "      <th>type</th>\n",
              "      <th>discount</th>\n",
              "      <th>price_afterdiscount</th>\n",
              "    </tr>\n",
              "  </thead>\n",
              "  <tbody>\n",
              "    <tr>\n",
              "      <th>0</th>\n",
              "      <td>ball</td>\n",
              "      <td>1.2</td>\n",
              "      <td>good</td>\n",
              "      <td>0.024</td>\n",
              "      <td>1.176</td>\n",
              "    </tr>\n",
              "    <tr>\n",
              "      <th>1</th>\n",
              "      <td>pen</td>\n",
              "      <td>1.0</td>\n",
              "      <td>normal</td>\n",
              "      <td>0.020</td>\n",
              "      <td>0.980</td>\n",
              "    </tr>\n",
              "    <tr>\n",
              "      <th>2</th>\n",
              "      <td>pencil</td>\n",
              "      <td>0.6</td>\n",
              "      <td>normal</td>\n",
              "      <td>0.012</td>\n",
              "      <td>0.588</td>\n",
              "    </tr>\n",
              "    <tr>\n",
              "      <th>3</th>\n",
              "      <td>paper</td>\n",
              "      <td>0.9</td>\n",
              "      <td>normal</td>\n",
              "      <td>0.018</td>\n",
              "      <td>0.882</td>\n",
              "    </tr>\n",
              "    <tr>\n",
              "      <th>4</th>\n",
              "      <td>mug</td>\n",
              "      <td>1.7</td>\n",
              "      <td>good</td>\n",
              "      <td>0.034</td>\n",
              "      <td>1.666</td>\n",
              "    </tr>\n",
              "  </tbody>\n",
              "</table>\n",
              "</div>"
            ],
            "text/plain": [
              "   object  price    type  discount  price_afterdiscount\n",
              "0    ball    1.2    good     0.024                1.176\n",
              "1     pen    1.0  normal     0.020                0.980\n",
              "2  pencil    0.6  normal     0.012                0.588\n",
              "3   paper    0.9  normal     0.018                0.882\n",
              "4     mug    1.7    good     0.034                1.666"
            ]
          },
          "metadata": {},
          "execution_count": 12
        }
      ]
    },
    {
      "cell_type": "markdown",
      "metadata": {
        "id": "OUxcMtMYH3xj"
      },
      "source": [
        "**Read data from csv file**"
      ]
    },
    {
      "cell_type": "code",
      "metadata": {
        "colab": {
          "base_uri": "https://localhost:8080/"
        },
        "id": "cpOoTc72H88k",
        "outputId": "4b38ccc8-c415-465f-882f-e3cf2f5a4692"
      },
      "source": [
        "import pandas as pd\n",
        "dulieuxettuyen = pd.read_csv(\"https://raw.githubusercontent.com/huynhhoc/DataAnalystDeepLearning/main/Data/dulieuxettuyendaihoc.csv\");\n",
        "print (dulieuxettuyen.head(10))\n"
      ],
      "execution_count": null,
      "outputs": [
        {
          "output_type": "stream",
          "name": "stdout",
          "text": [
            "   STT   T1   L1   H1   S1   V1   X1  ...  GT  DT   KV   DH1   DH2   DH3  KT\n",
            "0    1  7.2  7.3  6.3  7.3  7.0  7.9  ...   F NaN  2NT  3.25  3.25  4.50  A1\n",
            "1    2  5.4  3.9  3.9  4.0  5.4  5.4  ...   M NaN    1  6.00  4.00  3.50   C\n",
            "2    3  5.6  6.8  7.2  7.5  4.3  7.4  ...   M NaN    1  5.00  6.75  4.00   C\n",
            "3    4  6.6  6.4  5.3  6.9  5.4  7.3  ...   M NaN    1  4.25  4.25  5.25  D1\n",
            "4    5  6.0  5.0  6.0  7.3  6.5  7.7  ...   M NaN  2NT  4.25  4.50  5.00   A\n",
            "5    6  9.3  7.6  7.9  8.6  7.0  7.3  ...   M NaN    1  1.50  4.00  6.00  D1\n",
            "6    7  2.8  3.9  5.5  6.9  5.0  7.3  ...   F NaN    2  6.50  6.75  5.25   C\n",
            "7    8  8.3  6.0  7.6  5.1  7.5  4.7  ...   F NaN    2  3.75  4.50  4.25  D1\n",
            "8    9  6.5  6.3  7.6  6.0  5.5  7.1  ...   F NaN    1  3.50  3.50  6.75  D1\n",
            "9   10  7.3  5.9  4.7  7.1  6.7  7.9  ...   F NaN    1  4.00  4.75  5.50  D1\n",
            "\n",
            "[10 rows x 56 columns]\n"
          ]
        }
      ]
    },
    {
      "cell_type": "markdown",
      "metadata": {
        "id": "2SfZ70AyKxP7"
      },
      "source": [
        "Read data without header"
      ]
    },
    {
      "cell_type": "code",
      "metadata": {
        "colab": {
          "base_uri": "https://localhost:8080/"
        },
        "id": "PAMRp_qaK0Dg",
        "outputId": "f0fea4c4-b88e-4bef-dd94-00f87d4f7220"
      },
      "source": [
        "import pandas as pd\n",
        "heartDisease = pd.read_csv(\"https://raw.githubusercontent.com/huynhhoc/DataAnalystDeepLearning/main/Data/dulieuxettuyendaihoc.csv\", header = None);\n",
        "print (heartDisease)\n",
        "\n"
      ],
      "execution_count": null,
      "outputs": [
        {
          "output_type": "stream",
          "name": "stdout",
          "text": [
            "      0    1    2    3    4    5    6   ...  49   50   51    52    53    54  55\n",
            "0    STT   T1   L1   H1   S1   V1   X1  ...  GT   DT   KV   DH1   DH2   DH3  KT\n",
            "1      1  7.2  7.3  6.3  7.3    7  7.9  ...   F  NaN  2NT  3.25  3.25   4.5  A1\n",
            "2      2  5.4  3.9  3.9    4  5.4  5.4  ...   M  NaN    1     6     4   3.5   C\n",
            "3      3  5.6  6.8  7.2  7.5  4.3  7.4  ...   M  NaN    1     5  6.75     4   C\n",
            "4      4  6.6  6.4  5.3  6.9  5.4  7.3  ...   M  NaN    1  4.25  4.25  5.25  D1\n",
            "..   ...  ...  ...  ...  ...  ...  ...  ...  ..  ...  ...   ...   ...   ...  ..\n",
            "96    96  8.6  6.9  7.4  8.8  7.6  5.8  ...   F  NaN    1  5.25   1.5  6.25   C\n",
            "97    97  3.7  5.4    6  5.1  5.5  3.9  ...   F  NaN    1  5.25  3.75  4.75   C\n",
            "98    98  8.8  5.5  7.4  7.7  6.2  7.3  ...   M  NaN  2NT     7     8     4   C\n",
            "99    99  2.7  1.8  3.4  5.3  4.5  7.9  ...   M  NaN    1     5   3.5   5.5   C\n",
            "100  100  4.1  5.2  4.9  5.3  5.5  5.4  ...   M  NaN  2NT  5.25   2.5  4.25   C\n",
            "\n",
            "[101 rows x 56 columns]\n"
          ]
        }
      ]
    },
    {
      "cell_type": "markdown",
      "metadata": {
        "id": "7piIsBOyLPy6"
      },
      "source": [
        "**Read JSON**"
      ]
    },
    {
      "cell_type": "code",
      "metadata": {
        "colab": {
          "base_uri": "https://localhost:8080/"
        },
        "id": "SF0FGOhpNNjt",
        "outputId": "e8bfb7a1-a09d-4c04-fa44-148d8b87e457"
      },
      "source": [
        "import pandas as pd\n",
        "import numpy as np\n",
        "frame = pd.DataFrame(np.arange(16).reshape(4,4),\n",
        "\t\tindex =['white', 'black', 'red','blue'],\n",
        "\t\tcolumns =['up', 'down', 'right', 'left'])\n",
        "frame.to_json('frame.json')\n",
        "#Read json-formatted data\n",
        "jsonFrame = pd.read_json('frame.json')\n",
        "print(jsonFrame)"
      ],
      "execution_count": null,
      "outputs": [
        {
          "output_type": "stream",
          "name": "stdout",
          "text": [
            "       up  down  right  left\n",
            "white   0     1      2     3\n",
            "black   4     5      6     7\n",
            "red     8     9     10    11\n",
            "blue   12    13     14    15\n"
          ]
        }
      ]
    },
    {
      "cell_type": "markdown",
      "metadata": {
        "id": "ClMM6heGNnBl"
      },
      "source": [
        "**Example 11:**"
      ]
    },
    {
      "cell_type": "code",
      "metadata": {
        "colab": {
          "base_uri": "https://localhost:8080/"
        },
        "id": "Ry-zVjfoOOVW",
        "outputId": "789ac553-883b-443e-8b37-3b659d6bbe32"
      },
      "source": [
        "import pandas as pd\n",
        "example11 = pd.read_table('https://raw.githubusercontent.com/huynhhoc/DataAnalystDeepLearning/main/Data/example11.txt', sep='\\D+', header=None, engine='python')\n",
        "print (example11)"
      ],
      "execution_count": null,
      "outputs": [
        {
          "output_type": "stream",
          "name": "stdout",
          "text": [
            "   0    1    2\n",
            "0  0  123  122\n",
            "1  1  124  321\n",
            "2  2  125  333\n"
          ]
        }
      ]
    },
    {
      "cell_type": "markdown",
      "metadata": {
        "id": "M-14W1K1Oay4"
      },
      "source": [
        "**Example 12:**"
      ]
    },
    {
      "cell_type": "code",
      "metadata": {
        "colab": {
          "base_uri": "https://localhost:8080/"
        },
        "id": "jVcWyu0zOeI2",
        "outputId": "e4d08fef-7640-4944-9e1c-f178e828fc06"
      },
      "source": [
        "import pandas as pd\n",
        "example12 = pd.read_table('https://raw.githubusercontent.com/huynhhoc/DataAnalystDeepLearning/main/Data/example12.txt', sep=',', skiprows=[0,1,3,6])\n",
        "print (example12)"
      ],
      "execution_count": null,
      "outputs": [
        {
          "output_type": "stream",
          "name": "stdout",
          "text": [
            "   white  red  blue  green animal\n",
            "0      1    5     2      3    cat\n",
            "1      2    7     8      5    dog\n",
            "2      3    3     6      7  horse\n",
            "3      2    2     8      3   duck\n",
            "4      4    4     2      1  mouse\n"
          ]
        }
      ]
    },
    {
      "cell_type": "markdown",
      "metadata": {
        "id": "QRgOjRzYOjZH"
      },
      "source": [
        "**Example 13:**\n",
        "\n",
        "white,red,blue,green,animal\n",
        "\n",
        "1,5,2,3,cat\n",
        "\n",
        "2,7,8,5,dog\n",
        "\n",
        "3,3,6,7,horse\n",
        "\n",
        "2,2,8,3,duck\n",
        "\n",
        "4,4,2,1,mouse"
      ]
    },
    {
      "cell_type": "code",
      "metadata": {
        "colab": {
          "base_uri": "https://localhost:8080/"
        },
        "id": "wRHIBfp-R61m",
        "outputId": "ce4f1803-20bc-4726-9936-fed87ff836ae"
      },
      "source": [
        "import pandas as pd\n",
        "example13 = pd.read_table('https://raw.githubusercontent.com/huynhhoc/DataAnalystDeepLearning/main/Data/example13.txt', skiprows=[2], nrows=3)\n",
        "print (example13)"
      ],
      "execution_count": null,
      "outputs": [
        {
          "output_type": "stream",
          "name": "stdout",
          "text": [
            "  white,red,blue,green,animal\n",
            "0                 1,5,2,3,cat\n",
            "1               3,3,6,7,horse\n",
            "2                2,2,8,3,duck\n"
          ]
        }
      ]
    },
    {
      "cell_type": "markdown",
      "metadata": {
        "id": "SMpHSPx0TH7f"
      },
      "source": [
        "**Filter - Dropna - Update**\n"
      ]
    },
    {
      "cell_type": "markdown",
      "metadata": {
        "id": "Ac_eeS3UTVEX"
      },
      "source": [
        "**Example 14:**"
      ]
    },
    {
      "cell_type": "code",
      "metadata": {
        "colab": {
          "base_uri": "https://localhost:8080/"
        },
        "id": "tmzyjGR2TV2l",
        "outputId": "1dcf8722-fb50-45bc-ed5b-01dee778b7af"
      },
      "source": [
        "\n",
        "import pandas as pd\n",
        "import numpy as np\n",
        "frame = pd.DataFrame(np.arange(16).reshape(4,4),index = ['red', 'blue', 'yellow','white'],columns = ['ball', 'pen', 'pencil', 'paper'])\n",
        "print(frame)"
      ],
      "execution_count": null,
      "outputs": [
        {
          "output_type": "stream",
          "name": "stdout",
          "text": [
            "        ball  pen  pencil  paper\n",
            "red        0    1       2      3\n",
            "blue       4    5       6      7\n",
            "yellow     8    9      10     11\n",
            "white     12   13      14     15\n"
          ]
        }
      ]
    },
    {
      "cell_type": "code",
      "metadata": {
        "colab": {
          "base_uri": "https://localhost:8080/"
        },
        "id": "-WkUQPwIV7lP",
        "outputId": "e3ebe192-c654-4f34-dd86-701c0e481582"
      },
      "source": [
        "newframe = pd.DataFrame(frame, columns=['paper','pen'])\n",
        "print(newframe)"
      ],
      "execution_count": null,
      "outputs": [
        {
          "output_type": "stream",
          "name": "stdout",
          "text": [
            "        paper  pen\n",
            "red         3    1\n",
            "blue        7    5\n",
            "yellow     11    9\n",
            "white      15   13\n"
          ]
        }
      ]
    },
    {
      "cell_type": "markdown",
      "metadata": {
        "id": "RdSwiHvEWArv"
      },
      "source": [
        "**Example 14:** Set **NaN** or value less than 11\n",
        "\n",
        "\n",
        "\n"
      ]
    },
    {
      "cell_type": "code",
      "metadata": {
        "colab": {
          "base_uri": "https://localhost:8080/"
        },
        "id": "HKwSGPxCWM4c",
        "outputId": "074a2641-9c6c-4fd9-8d0c-9d4f8968923d"
      },
      "source": [
        "\n",
        "filteredFrame = frame[frame < 11]\n",
        "print(filteredFrame)"
      ],
      "execution_count": null,
      "outputs": [
        {
          "output_type": "stream",
          "name": "stdout",
          "text": [
            "        ball  pen  pencil  paper\n",
            "red      0.0  1.0     2.0    3.0\n",
            "blue     4.0  5.0     6.0    7.0\n",
            "yellow   8.0  9.0    10.0    NaN\n",
            "white    NaN  NaN     NaN    NaN\n"
          ]
        }
      ]
    },
    {
      "cell_type": "markdown",
      "metadata": {
        "id": "PBSf1mSgX_kp"
      },
      "source": [
        "**Example 15:** Drop rows that contain any NaN value"
      ]
    },
    {
      "cell_type": "code",
      "metadata": {
        "colab": {
          "base_uri": "https://localhost:8080/"
        },
        "id": "lyorl3JIYhKe",
        "outputId": "a27c9f21-a866-4ad6-9fcd-a4768d7b61e3"
      },
      "source": [
        "dropAllNaNFrame = filteredFrame.dropna()\n",
        "print (dropAllNaNFrame)"
      ],
      "execution_count": null,
      "outputs": [
        {
          "output_type": "stream",
          "name": "stdout",
          "text": [
            "      ball  pen  pencil  paper\n",
            "red    0.0  1.0     2.0    3.0\n",
            "blue   4.0  5.0     6.0    7.0\n"
          ]
        }
      ]
    },
    {
      "cell_type": "markdown",
      "metadata": {
        "id": "sedDm0AFYlBv"
      },
      "source": [
        "**Example 16:** Drop rows that all of them are NaN"
      ]
    },
    {
      "cell_type": "code",
      "metadata": {
        "colab": {
          "base_uri": "https://localhost:8080/"
        },
        "id": "LA1JHcUCYn3P",
        "outputId": "173bbfaf-4166-4e2c-94db-77d888b8f3f9"
      },
      "source": [
        "dropNaNAllFrame = filteredFrame.dropna(how='all')\n",
        "print(dropNaNAllFrame)"
      ],
      "execution_count": null,
      "outputs": [
        {
          "output_type": "stream",
          "name": "stdout",
          "text": [
            "        ball  pen  pencil  paper\n",
            "red      0.0  1.0     2.0    3.0\n",
            "blue     4.0  5.0     6.0    7.0\n",
            "yellow   8.0  9.0    10.0    NaN\n"
          ]
        }
      ]
    },
    {
      "cell_type": "markdown",
      "metadata": {
        "id": "XTMtFz6iYq2e"
      },
      "source": [
        "**Describe the missing data**"
      ]
    },
    {
      "cell_type": "markdown",
      "metadata": {
        "id": "SKL8lbpMYuw2"
      },
      "source": [
        "**Example 17**: Describe the missing data"
      ]
    },
    {
      "cell_type": "code",
      "metadata": {
        "colab": {
          "base_uri": "https://localhost:8080/"
        },
        "id": "V96beJnQYyTs",
        "outputId": "7f014346-034e-440f-915e-28cf5ef49049"
      },
      "source": [
        "filteredFrame.isnull().sum()"
      ],
      "execution_count": null,
      "outputs": [
        {
          "output_type": "execute_result",
          "data": {
            "text/plain": [
              "ball      1\n",
              "pen       1\n",
              "pencil    1\n",
              "paper     2\n",
              "dtype: int64"
            ]
          },
          "metadata": {},
          "execution_count": 24
        }
      ]
    },
    {
      "cell_type": "markdown",
      "metadata": {
        "id": "RpRnLONiZB3u"
      },
      "source": [
        "**Update for null value**"
      ]
    },
    {
      "cell_type": "markdown",
      "metadata": {
        "id": "zW3iroO9ZGUl"
      },
      "source": [
        "**Example 18**: Set 0 for all NaN value"
      ]
    },
    {
      "cell_type": "code",
      "metadata": {
        "colab": {
          "base_uri": "https://localhost:8080/"
        },
        "id": "E3Qa3gMPZKLu",
        "outputId": "76397e75-d2d0-4a62-fc3d-1f513afa6f41"
      },
      "source": [
        "print(filteredFrame)"
      ],
      "execution_count": null,
      "outputs": [
        {
          "output_type": "stream",
          "name": "stdout",
          "text": [
            "        ball  pen  pencil  paper\n",
            "red      0.0  1.0     2.0    3.0\n",
            "blue     4.0  5.0     6.0    7.0\n",
            "yellow   8.0  9.0    10.0    NaN\n",
            "white    NaN  NaN     NaN    NaN\n"
          ]
        }
      ]
    },
    {
      "cell_type": "code",
      "metadata": {
        "colab": {
          "base_uri": "https://localhost:8080/"
        },
        "id": "I403-R1uZOO0",
        "outputId": "103b64ce-ffde-4ee1-9ab4-640206ca8f99"
      },
      "source": [
        "fillnazeroFrame = filteredFrame.fillna(0)\n",
        "print(fillnazeroFrame)"
      ],
      "execution_count": null,
      "outputs": [
        {
          "output_type": "stream",
          "name": "stdout",
          "text": [
            "        ball  pen  pencil  paper\n",
            "red      0.0  1.0     2.0    3.0\n",
            "blue     4.0  5.0     6.0    7.0\n",
            "yellow   8.0  9.0    10.0    0.0\n",
            "white    0.0  0.0     0.0    0.0\n"
          ]
        }
      ]
    },
    {
      "cell_type": "markdown",
      "metadata": {
        "id": "o65rBSUxZTsu"
      },
      "source": [
        "**Example 19**: Write dataframe to csv file"
      ]
    },
    {
      "cell_type": "markdown",
      "metadata": {
        "id": "qPAfsuriZWsn"
      },
      "source": [
        "There are two steps to save dataframe as csv file in google drive:\n",
        " \n",
        "**Step 1:** mount google colab with google drive\n",
        "**Step 2: **  use to_csv('/drive/My Drive' + '/DataAnalyst/filename.csv') function to export this file into DataAnalyst folder.\n",
        "Note: \n",
        "1. **'/drive/My Drive'**: is constant.\n",
        "2. **DataAnalyst** folder is an example of folder in your google drive"
      ]
    },
    {
      "cell_type": "code",
      "metadata": {
        "colab": {
          "base_uri": "https://localhost:8080/"
        },
        "id": "d84AqTFaaAef",
        "outputId": "3719605b-1d63-4034-cf5a-94589f9bc597"
      },
      "source": [
        "from google.colab import drive\n",
        "drive.mount('/drive')"
      ],
      "execution_count": null,
      "outputs": [
        {
          "output_type": "stream",
          "name": "stdout",
          "text": [
            "Mounted at /drive\n"
          ]
        }
      ]
    }
  ]
}